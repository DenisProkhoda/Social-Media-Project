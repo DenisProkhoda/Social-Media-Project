{
 "cells": [
  {
   "cell_type": "code",
   "execution_count": 23,
   "id": "18101e8c",
   "metadata": {},
   "outputs": [],
   "source": [
    "# Import the Pandas library and read data from two Excel files into DataFrames\n",
    "import pandas as pd\n",
    "file_path_1 = r'Top 5 Countries.xlsx'\n",
    "file_path_2 = r'Social Media Metrics.xlsx'\n",
    "df1 = pd.read_excel(file_path_1)\n",
    "df2 = pd.read_excel(file_path_2)"
   ]
  },
  {
   "cell_type": "code",
   "execution_count": 24,
   "id": "5cbec51f",
   "metadata": {},
   "outputs": [],
   "source": [
    "# Rename the 'Effect' column in DataFrame df1 to 'Name'\n",
    "df1.rename(columns={'Effect': 'Name'}, inplace=True)"
   ]
  },
  {
   "cell_type": "code",
   "execution_count": 25,
   "id": "5258cf19",
   "metadata": {},
   "outputs": [],
   "source": [
    "# Select the last 12 rows of DataFrame df2 and assign the result back to df2\n",
    "df2=df2.tail(12)"
   ]
  },
  {
   "cell_type": "code",
   "execution_count": 26,
   "id": "197b4d2b",
   "metadata": {},
   "outputs": [],
   "source": [
    "# Calculate new metrics for a given row by matching 'Name' with df2\n",
    "def calculate_new_columns(row):\n",
    "# Find the corresponding row in df2 based on 'Name'    \n",
    "    match_row = df2[df2['Name'] == row['Name']]\n",
    "# Check if a matching row was found    \n",
    "    if not match_row.empty:\n",
    "        Views_Day_Over_Day = row['Viewers %'] * match_row['Views Day Over Day'].values[0]\n",
    "        Views = row['Viewers %'] * match_row['Views'].values[0]\n",
    "        Posts_Day_Over_Day = row['Creators %'] * match_row['Posts Day Over Day'].values[0]\n",
    "        Posts = row['Creators %'] * match_row['Posts'].values[0]\n",
    "        return (Views_Day_Over_Day, Views, Posts_Day_Over_Day, Posts)\n",
    "    else:\n",
    "        return (0, 0, 0, 0)\n",
    "\n",
    "# Calculate new columns and round them to whole numbers\n",
    "new_columns = df1.apply(calculate_new_columns, axis=1, result_type='expand')\n",
    "rounded_new_columns = new_columns.round()\n",
    "\n",
    "# Assign rounded new columns to df1\n",
    "df1[['Views_Day_Over_Day', 'Views', 'Posts_Day_Over_Day', 'Posts']] = rounded_new_columns\n"
   ]
  },
  {
   "cell_type": "code",
   "execution_count": 27,
   "id": "241bf52f",
   "metadata": {},
   "outputs": [],
   "source": [
    "# Save the DataFrame to an Excel file\n",
    "path = r'Countries By Social Media Metrics.xlsx'\n",
    "df1.to_excel(path, index=False)"
   ]
  },
  {
   "cell_type": "code",
   "execution_count": null,
   "id": "82cad9bb",
   "metadata": {},
   "outputs": [],
   "source": []
  }
 ],
 "metadata": {
  "kernelspec": {
   "display_name": "Python 3 (ipykernel)",
   "language": "python",
   "name": "python3"
  },
  "language_info": {
   "codemirror_mode": {
    "name": "ipython",
    "version": 3
   },
   "file_extension": ".py",
   "mimetype": "text/x-python",
   "name": "python",
   "nbconvert_exporter": "python",
   "pygments_lexer": "ipython3",
   "version": "3.9.13"
  }
 },
 "nbformat": 4,
 "nbformat_minor": 5
}
